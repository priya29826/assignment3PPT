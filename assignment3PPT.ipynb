{
  "nbformat": 4,
  "nbformat_minor": 0,
  "metadata": {
    "colab": {
      "provenance": []
    },
    "kernelspec": {
      "name": "python3",
      "display_name": "Python 3"
    },
    "language_info": {
      "name": "python"
    }
  },
  "cells": [
    {
      "cell_type": "markdown",
      "source": [
        "Question 1\n",
        "Given an integer array nums of length n and an integer target, find three integers\n",
        "in nums such that the sum is closest to the target.\n",
        "Return the sum of the three integers.\n",
        "\n",
        "You may assume that each input would have exactly one solution.\n",
        "\n",
        "Example 1:\n",
        "Input: nums = [-1,2,1,-4], target = 1\n",
        "Output: 2\n",
        "\n",
        "Explanation: The sum that is closest to the target is 2. (-1 + 2 + 1 = 2)."
      ],
      "metadata": {
        "id": "mWfU3DwOU4wq"
      }
    },
    {
      "cell_type": "code",
      "source": [
        "def threeSumClosest(nums, target):\n",
        "    nums.sort()  # Sort the array in ascending order\n",
        "    n = len(nums)\n",
        "    closestSum = float('inf')  # Initialize closestSum to a large value\n",
        "\n",
        "    for i in range(n - 2):\n",
        "        left = i + 1\n",
        "        right = n - 1\n",
        "\n",
        "        while left < right:\n",
        "            currentSum = nums[i] + nums[left] + nums[right]\n",
        "            if abs(currentSum - target) < abs(closestSum - target):\n",
        "                closestSum = currentSum\n",
        "\n",
        "            if currentSum > target:\n",
        "                right -= 1\n",
        "            else:\n",
        "                left += 1\n",
        "\n",
        "    return closestSum\n",
        "\n",
        "nums = [-1, 2, 1, -4]\n",
        "target = 1\n",
        "print(threeSumClosest(nums, target))  # Output: 2\n"
      ],
      "metadata": {
        "colab": {
          "base_uri": "https://localhost:8080/"
        },
        "id": "lWcbqDs3U-nM",
        "outputId": "b26e7342-185a-427b-ab88-690348c9d7a6"
      },
      "execution_count": 4,
      "outputs": [
        {
          "output_type": "stream",
          "name": "stdout",
          "text": [
            "2\n"
          ]
        }
      ]
    },
    {
      "cell_type": "markdown",
      "source": [
        "Question 2\n",
        "Given an array nums of n integers, return an array of all the unique quadruplets\n",
        "[nums[a], nums[b], nums[c], nums[d]] such that:\n",
        "           ● 0 <= a, b, c, d < n\n",
        "           ● a, b, c, and d are distinct.\n",
        "           ● nums[a] + nums[b] + nums[c] + nums[d] == target\n",
        "\n",
        "You may return the answer in any order.\n",
        "\n",
        "Example 1:\n",
        "Input: nums = [1,0,-1,0,-2,2], target = 0\n",
        "Output: [[-2,-1,1,2],[-2,0,0,2],[-1,0,0,1]]"
      ],
      "metadata": {
        "id": "1hiQTgn3QnGj"
      }
    },
    {
      "cell_type": "code",
      "source": [
        "def fourSum(nums, target):\n",
        "    nums.sort()\n",
        "    n = len(nums)\n",
        "    result = []\n",
        "    \n",
        "    for a in range(n - 3):\n",
        "        if a > 0 and nums[a] == nums[a-1]:\n",
        "            continue\n",
        "        \n",
        "        for b in range(a + 1, n - 2):\n",
        "            if b > a + 1 and nums[b] == nums[b-1]:\n",
        "                continue\n",
        "            \n",
        "            left = b + 1\n",
        "            right = n - 1\n",
        "            \n",
        "            while left < right:\n",
        "                curr_sum = nums[a] + nums[b] + nums[left] + nums[right]\n",
        "                \n",
        "                if curr_sum == target:\n",
        "                    result.append([nums[a], nums[b], nums[left], nums[right]])\n",
        "                    \n",
        "                    while left < right and nums[left] == nums[left+1]:\n",
        "                        left += 1\n",
        "                    while left < right and nums[right] == nums[right-1]:\n",
        "                        right -= 1\n",
        "                    \n",
        "                    left += 1\n",
        "                    right -= 1\n",
        "                elif curr_sum < target:\n",
        "                    left += 1\n",
        "                else:\n",
        "                    right -= 1\n",
        "    \n",
        "    return result\n",
        "nums = [1, 0, -1, 0, -2, 2]\n",
        "target = 0\n",
        "print(fourSum(nums, target))\n"
      ],
      "metadata": {
        "colab": {
          "base_uri": "https://localhost:8080/"
        },
        "id": "tWZfIh4GUTYE",
        "outputId": "69681500-867b-4279-f8c6-5b2161d134c1"
      },
      "execution_count": 3,
      "outputs": [
        {
          "output_type": "stream",
          "name": "stdout",
          "text": [
            "[[-2, -1, 1, 2], [-2, 0, 0, 2], [-1, 0, 0, 1]]\n"
          ]
        }
      ]
    },
    {
      "cell_type": "markdown",
      "source": [
        "Question 4\n",
        "Given a sorted array of distinct integers and a target value, return the index if the\n",
        "target is found. If not, return the index where it would be if it were inserted in\n",
        "order.\n",
        "\n",
        "You must write an algorithm with O(log n) runtime complexity.\n",
        "\n",
        "Example 1:\n",
        "Input: nums = [1,3,5,6], target = 5\n",
        "Output: 2"
      ],
      "metadata": {
        "id": "rpfJEGxnMeDn"
      }
    },
    {
      "cell_type": "code",
      "source": [
        "def searchInsert(nums, target):\n",
        "    low = 0\n",
        "    high = len(nums) - 1\n",
        "\n",
        "    while low <= high:\n",
        "        mid = (low + high) // 2\n",
        "\n",
        "        if nums[mid] == target:\n",
        "            return mid\n",
        "        elif nums[mid] < target:\n",
        "            low = mid + 1\n",
        "        else:\n",
        "            high = mid - 1\n",
        "\n",
        "    return low\n",
        "\n",
        "\n",
        "nums = [1, 3, 5, 6]\n",
        "target = 5\n",
        "print(searchInsert(nums, target))\n"
      ],
      "metadata": {
        "colab": {
          "base_uri": "https://localhost:8080/"
        },
        "id": "jzfzeFlwMiO7",
        "outputId": "27931256-e1b8-4768-ccdb-5f2893c48fa0"
      },
      "execution_count": 2,
      "outputs": [
        {
          "output_type": "stream",
          "name": "stdout",
          "text": [
            "2\n"
          ]
        }
      ]
    },
    {
      "cell_type": "markdown",
      "source": [
        "Question 8\n",
        "Given an array of meeting time intervals where intervals[i] = [starti, endi],\n",
        "determine if a person could attend all meetings.\n",
        "\n",
        "Example 1:\n",
        "Input: intervals = [[0,30],[5,10],[15,20]]\n",
        "Output: false"
      ],
      "metadata": {
        "id": "SDiHPHHcLnB7"
      }
    },
    {
      "cell_type": "code",
      "execution_count": 1,
      "metadata": {
        "colab": {
          "base_uri": "https://localhost:8080/"
        },
        "id": "YjyTTPlnLe63",
        "outputId": "59e75102-5206-4b1d-832c-1f6396923cd5"
      },
      "outputs": [
        {
          "output_type": "stream",
          "name": "stdout",
          "text": [
            "False\n"
          ]
        }
      ],
      "source": [
        "def can_attend_all_meetings(intervals):\n",
        "    intervals.sort(key=lambda x: x[0])  # Sort intervals based on start time\n",
        "\n",
        "    for i in range(1, len(intervals)):\n",
        "        if intervals[i][0] < intervals[i-1][1]:\n",
        "            return False\n",
        "\n",
        "    return True\n",
        "\n",
        "# Test the algorithm\n",
        "intervals = [[0,30],[5,10],[15,20]]\n",
        "print(can_attend_all_meetings(intervals)) "
      ]
    },
    {
      "cell_type": "code",
      "source": [],
      "metadata": {
        "id": "Vo7wWkvGMMMo"
      },
      "execution_count": null,
      "outputs": []
    }
  ]
}